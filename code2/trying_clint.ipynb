{
 "cells": [
  {
   "cell_type": "code",
   "execution_count": 1,
   "metadata": {
    "collapsed": false
   },
   "outputs": [
    {
     "name": "stderr",
     "output_type": "stream",
     "text": [
      "....................................................................................................\n",
      "\n"
     ]
    }
   ],
   "source": [
    "import sys\n",
    "import os\n",
    "\n",
    "sys.path.insert(0, os.path.abspath('..'))\n",
    "\n",
    "from time import sleep\n",
    "from random import random\n",
    "from clint.textui import progress\n",
    "\n",
    "\n",
    "if __name__ == '__main__':\n",
    "    for i in progress.bar(range(100)):\n",
    "        sleep(random() * 0.2)\n",
    "        \n",
    "    with progress.Bar(label=\"nonlinear\", expected_size=10) as bar:\n",
    "        last_val = 0\n",
    "        for val in (1,2,3,9,10):\n",
    "            sleep(2 * (val - last_val))\n",
    "            bar.show(val)\n",
    "            last_val = val\n",
    "\n",
    "    for i in progress.dots(range(100)):\n",
    "        sleep(random() * 0.2)\n",
    "\n",
    "    for i in progress.mill(range(100)):\n",
    "        sleep(random() * 0.2)\n",
    "\n",
    "    # Override the expected_size, for iterables that don't support len()\n",
    "    D = dict(zip(range(100), range(100)))\n",
    "    for k, v in progress.bar(D.items(), expected_size=len(D)):\n",
    "        sleep(random() * 0.2)"
   ]
  }
 ],
 "metadata": {
  "kernelspec": {
   "display_name": "Python 2",
   "language": "python",
   "name": "python2"
  },
  "language_info": {
   "codemirror_mode": {
    "name": "ipython",
    "version": 2
   },
   "file_extension": ".py",
   "mimetype": "text/x-python",
   "name": "python",
   "nbconvert_exporter": "python",
   "pygments_lexer": "ipython2",
   "version": "2.7.6"
  }
 },
 "nbformat": 4,
 "nbformat_minor": 0
}
